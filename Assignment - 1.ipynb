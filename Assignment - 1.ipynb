{
 "cells": [
  {
   "cell_type": "code",
   "execution_count": 1,
   "id": "8c5eee76",
   "metadata": {},
   "outputs": [],
   "source": [
    "!pip install jovian --upgrade --quiet"
   ]
  },
  {
   "cell_type": "code",
   "execution_count": 2,
   "id": "890786e5",
   "metadata": {},
   "outputs": [],
   "source": [
    "import jovian"
   ]
  },
  {
   "cell_type": "code",
   "execution_count": 3,
   "id": "1e2056bd",
   "metadata": {},
   "outputs": [],
   "source": [
    "project_name = 'python-practice-assignment'"
   ]
  },
  {
   "cell_type": "code",
   "execution_count": 4,
   "id": "4f6f565c",
   "metadata": {},
   "outputs": [
    {
     "data": {
      "application/javascript": [
       "window.require && require([\"base/js/namespace\"],function(Jupyter){Jupyter.notebook.save_checkpoint()})"
      ],
      "text/plain": [
       "<IPython.core.display.Javascript object>"
      ]
     },
     "metadata": {},
     "output_type": "display_data"
    },
    {
     "name": "stdout",
     "output_type": "stream",
     "text": [
      "[jovian] Updating notebook \"shashankshirol4/python-practice-assignment\" on https://jovian.ai/\u001b[0m\n",
      "[jovian] Committed successfully! https://jovian.ai/shashankshirol4/python-practice-assignment\u001b[0m\n"
     ]
    },
    {
     "data": {
      "text/plain": [
       "'https://jovian.ai/shashankshirol4/python-practice-assignment'"
      ]
     },
     "execution_count": 4,
     "metadata": {},
     "output_type": "execute_result"
    }
   ],
   "source": [
    "jovian.commit(project=project_name, privacy='secret', environment=None)"
   ]
  },
  {
   "cell_type": "code",
   "execution_count": null,
   "id": "ab7451e9",
   "metadata": {},
   "outputs": [],
   "source": []
  },
  {
   "cell_type": "markdown",
   "id": "ceae6cae",
   "metadata": {},
   "source": [
    "## Problem 1 - Variables and Data Types"
   ]
  },
  {
   "cell_type": "markdown",
   "id": "dc629c7e",
   "metadata": {},
   "source": [
    "## 1"
   ]
  },
  {
   "cell_type": "code",
   "execution_count": 5,
   "id": "42501096",
   "metadata": {},
   "outputs": [],
   "source": [
    "name = 'Shashank Shirol'"
   ]
  },
  {
   "cell_type": "markdown",
   "id": "e471172b",
   "metadata": {},
   "source": [
    "## 2"
   ]
  },
  {
   "cell_type": "code",
   "execution_count": 6,
   "id": "c928e986",
   "metadata": {},
   "outputs": [],
   "source": [
    "age = 25"
   ]
  },
  {
   "cell_type": "markdown",
   "id": "dd852b7d",
   "metadata": {},
   "source": [
    "## 3"
   ]
  },
  {
   "cell_type": "code",
   "execution_count": 7,
   "id": "8695d011",
   "metadata": {},
   "outputs": [],
   "source": [
    "has_android_phone = True"
   ]
  },
  {
   "cell_type": "markdown",
   "id": "11422d4f",
   "metadata": {},
   "source": [
    "## 4"
   ]
  },
  {
   "cell_type": "code",
   "execution_count": 8,
   "id": "766b00b4",
   "metadata": {},
   "outputs": [],
   "source": [
    "person = {'name':'Shashank Shirol', 'age':25, 'has_android_phone':True}"
   ]
  },
  {
   "cell_type": "code",
   "execution_count": 9,
   "id": "bc8ccf18",
   "metadata": {},
   "outputs": [
    {
     "name": "stdout",
     "output_type": "stream",
     "text": [
      "Shashank Shirol is aged 25, and owns an Android phone.\n"
     ]
    }
   ],
   "source": [
    "print(\"{} is aged {}, and owns an {}.\".format(person[\"name\"], person[\"age\"], \"Android phone\" if person[\"has_android_phone\"] \n",
    "                                              else \"iphone\"))"
   ]
  },
  {
   "cell_type": "code",
   "execution_count": 10,
   "id": "ede9fe96",
   "metadata": {},
   "outputs": [
    {
     "data": {
      "application/javascript": [
       "window.require && require([\"base/js/namespace\"],function(Jupyter){Jupyter.notebook.save_checkpoint()})"
      ],
      "text/plain": [
       "<IPython.core.display.Javascript object>"
      ]
     },
     "metadata": {},
     "output_type": "display_data"
    },
    {
     "name": "stdout",
     "output_type": "stream",
     "text": [
      "[jovian] Updating notebook \"shashankshirol4/python-practice-assignment\" on https://jovian.ai/\u001b[0m\n",
      "[jovian] Committed successfully! https://jovian.ai/shashankshirol4/python-practice-assignment\u001b[0m\n"
     ]
    },
    {
     "data": {
      "text/plain": [
       "'https://jovian.ai/shashankshirol4/python-practice-assignment'"
      ]
     },
     "execution_count": 10,
     "metadata": {},
     "output_type": "execute_result"
    }
   ],
   "source": [
    "jovian.commit(project=project_name, privacy='secret', environment=None)"
   ]
  },
  {
   "cell_type": "code",
   "execution_count": null,
   "id": "6f8200a8",
   "metadata": {},
   "outputs": [],
   "source": []
  },
  {
   "cell_type": "markdown",
   "id": "196b3a5f",
   "metadata": {},
   "source": [
    "## Problem 2 - Working with Lists"
   ]
  },
  {
   "cell_type": "markdown",
   "id": "8efdc37d",
   "metadata": {},
   "source": [
    "## 5"
   ]
  },
  {
   "cell_type": "code",
   "execution_count": 11,
   "id": "e40711af",
   "metadata": {},
   "outputs": [
    {
     "data": {
      "text/plain": [
       "['Red', 1, True]"
      ]
     },
     "execution_count": 11,
     "metadata": {},
     "output_type": "execute_result"
    }
   ],
   "source": [
    "my_list = ['Red', 1, True]\n",
    "my_list"
   ]
  },
  {
   "cell_type": "markdown",
   "id": "9b89c23b",
   "metadata": {},
   "source": [
    "## 6"
   ]
  },
  {
   "cell_type": "code",
   "execution_count": 12,
   "id": "a83f9e5e",
   "metadata": {},
   "outputs": [
    {
     "name": "stdout",
     "output_type": "stream",
     "text": [
      "My favourite color is Red\n"
     ]
    }
   ],
   "source": [
    "print('My favourite color is', my_list[0])"
   ]
  },
  {
   "cell_type": "code",
   "execution_count": 13,
   "id": "f6d6ad2d",
   "metadata": {},
   "outputs": [
    {
     "name": "stdout",
     "output_type": "stream",
     "text": [
      "I have 1 pet(s).\n"
     ]
    }
   ],
   "source": [
    "print('I have {} pet(s).'.format(1))"
   ]
  },
  {
   "cell_type": "code",
   "execution_count": 14,
   "id": "91a860a4",
   "metadata": {},
   "outputs": [
    {
     "name": "stdout",
     "output_type": "stream",
     "text": [
      "I have previous programming experience\n"
     ]
    }
   ],
   "source": [
    "if True:\n",
    "    print(\"I have previous programming experience\")\n",
    "else:\n",
    "    print(\"I do not have previous programming experience\")"
   ]
  },
  {
   "cell_type": "markdown",
   "id": "3b6f9b6c",
   "metadata": {},
   "source": [
    "## 7"
   ]
  },
  {
   "cell_type": "code",
   "execution_count": 15,
   "id": "b689ed5d",
   "metadata": {},
   "outputs": [
    {
     "data": {
      "text/plain": [
       "['Red', 1, True, 8]"
      ]
     },
     "execution_count": 15,
     "metadata": {},
     "output_type": "execute_result"
    }
   ],
   "source": [
    "my_list.append(8)\n",
    "my_list"
   ]
  },
  {
   "cell_type": "markdown",
   "id": "c5cd2156",
   "metadata": {},
   "source": [
    "## 8"
   ]
  },
  {
   "cell_type": "code",
   "execution_count": 16,
   "id": "88021700",
   "metadata": {},
   "outputs": [
    {
     "data": {
      "text/plain": [
       "['Red', True, 8]"
      ]
     },
     "execution_count": 16,
     "metadata": {},
     "output_type": "execute_result"
    }
   ],
   "source": [
    "my_list.remove(1)\n",
    "my_list"
   ]
  },
  {
   "cell_type": "markdown",
   "id": "9e026636",
   "metadata": {},
   "source": [
    "## 9"
   ]
  },
  {
   "cell_type": "code",
   "execution_count": 17,
   "id": "4c88884c",
   "metadata": {},
   "outputs": [
    {
     "name": "stdout",
     "output_type": "stream",
     "text": [
      "The list has 3 elements.\n"
     ]
    }
   ],
   "source": [
    "print(\"The list has {} elements.\".format(len(my_list)))"
   ]
  },
  {
   "cell_type": "code",
   "execution_count": 18,
   "id": "708abfce",
   "metadata": {},
   "outputs": [
    {
     "data": {
      "application/javascript": [
       "window.require && require([\"base/js/namespace\"],function(Jupyter){Jupyter.notebook.save_checkpoint()})"
      ],
      "text/plain": [
       "<IPython.core.display.Javascript object>"
      ]
     },
     "metadata": {},
     "output_type": "display_data"
    },
    {
     "name": "stdout",
     "output_type": "stream",
     "text": [
      "[jovian] Updating notebook \"shashankshirol4/python-practice-assignment\" on https://jovian.ai/\u001b[0m\n",
      "[jovian] Committed successfully! https://jovian.ai/shashankshirol4/python-practice-assignment\u001b[0m\n"
     ]
    },
    {
     "data": {
      "text/plain": [
       "'https://jovian.ai/shashankshirol4/python-practice-assignment'"
      ]
     },
     "execution_count": 18,
     "metadata": {},
     "output_type": "execute_result"
    }
   ],
   "source": [
    "jovian.commit(project=project_name, privacy='secret', environment=None)"
   ]
  },
  {
   "cell_type": "code",
   "execution_count": null,
   "id": "6b131168",
   "metadata": {},
   "outputs": [],
   "source": []
  },
  {
   "cell_type": "markdown",
   "id": "edb1d931",
   "metadata": {},
   "source": [
    "## Problem 3 - Conditions and loops"
   ]
  },
  {
   "cell_type": "markdown",
   "id": "6bf8740e",
   "metadata": {},
   "source": [
    "## 10"
   ]
  },
  {
   "cell_type": "code",
   "execution_count": 19,
   "id": "b20179f0",
   "metadata": {},
   "outputs": [
    {
     "name": "stdout",
     "output_type": "stream",
     "text": [
      "The sum of all numbers divisible by 7 between 18 and 534 is 20461\n"
     ]
    }
   ],
   "source": [
    "sum_of_numbers = 0\n",
    "\n",
    "for num in range(18,535):\n",
    "    if num % 7 == 0:\n",
    "        sum_of_numbers += num\n",
    "        \n",
    "sum_of_numbers\n",
    "print('The sum of all numbers divisible by 7 between 18 and 534 is', sum_of_numbers)"
   ]
  },
  {
   "cell_type": "code",
   "execution_count": 20,
   "id": "5794778e",
   "metadata": {},
   "outputs": [
    {
     "data": {
      "application/javascript": [
       "window.require && require([\"base/js/namespace\"],function(Jupyter){Jupyter.notebook.save_checkpoint()})"
      ],
      "text/plain": [
       "<IPython.core.display.Javascript object>"
      ]
     },
     "metadata": {},
     "output_type": "display_data"
    },
    {
     "name": "stdout",
     "output_type": "stream",
     "text": [
      "[jovian] Updating notebook \"shashankshirol4/python-practice-assignment\" on https://jovian.ai/\u001b[0m\n",
      "[jovian] Committed successfully! https://jovian.ai/shashankshirol4/python-practice-assignment\u001b[0m\n"
     ]
    },
    {
     "data": {
      "text/plain": [
       "'https://jovian.ai/shashankshirol4/python-practice-assignment'"
      ]
     },
     "execution_count": 20,
     "metadata": {},
     "output_type": "execute_result"
    }
   ],
   "source": [
    "jovian.commit(project=project_name, privacy='secret', environment=None)"
   ]
  },
  {
   "cell_type": "code",
   "execution_count": null,
   "id": "25e60882",
   "metadata": {},
   "outputs": [],
   "source": []
  },
  {
   "cell_type": "markdown",
   "id": "bc8019a4",
   "metadata": {},
   "source": [
    "## Problem 4 - Flying to the Bahamas"
   ]
  },
  {
   "cell_type": "markdown",
   "id": "0987e42f",
   "metadata": {},
   "source": [
    "## 11"
   ]
  },
  {
   "cell_type": "code",
   "execution_count": 21,
   "id": "f9b16f04",
   "metadata": {},
   "outputs": [],
   "source": [
    "cost_of_flying_plane = 5000"
   ]
  },
  {
   "cell_type": "code",
   "execution_count": 22,
   "id": "64d97218",
   "metadata": {},
   "outputs": [],
   "source": [
    "number_of_passengers = 29"
   ]
  },
  {
   "cell_type": "code",
   "execution_count": 23,
   "id": "0d1ef089",
   "metadata": {},
   "outputs": [],
   "source": [
    "price_of_ticket = 200"
   ]
  },
  {
   "cell_type": "code",
   "execution_count": 24,
   "id": "5a8b45da",
   "metadata": {},
   "outputs": [],
   "source": [
    "profit = (number_of_passengers * price_of_ticket) - cost_of_flying_plane"
   ]
  },
  {
   "cell_type": "code",
   "execution_count": 25,
   "id": "029f05d8",
   "metadata": {},
   "outputs": [
    {
     "name": "stdout",
     "output_type": "stream",
     "text": [
      "The company makes of a profit if 800 dollars\n"
     ]
    }
   ],
   "source": [
    "print('The company makes of a profit if {} dollars'.format(profit))"
   ]
  },
  {
   "cell_type": "code",
   "execution_count": 26,
   "id": "3693cda7",
   "metadata": {},
   "outputs": [
    {
     "data": {
      "application/javascript": [
       "window.require && require([\"base/js/namespace\"],function(Jupyter){Jupyter.notebook.save_checkpoint()})"
      ],
      "text/plain": [
       "<IPython.core.display.Javascript object>"
      ]
     },
     "metadata": {},
     "output_type": "display_data"
    },
    {
     "name": "stdout",
     "output_type": "stream",
     "text": [
      "[jovian] Updating notebook \"shashankshirol4/python-practice-assignment\" on https://jovian.ai/\u001b[0m\n",
      "[jovian] Committed successfully! https://jovian.ai/shashankshirol4/python-practice-assignment\u001b[0m\n"
     ]
    },
    {
     "data": {
      "text/plain": [
       "'https://jovian.ai/shashankshirol4/python-practice-assignment'"
      ]
     },
     "execution_count": 26,
     "metadata": {},
     "output_type": "execute_result"
    }
   ],
   "source": [
    "jovian.commit(project=project_name, privacy='secret', environment=None)"
   ]
  },
  {
   "cell_type": "code",
   "execution_count": null,
   "id": "cf13dbf6",
   "metadata": {},
   "outputs": [],
   "source": []
  },
  {
   "cell_type": "markdown",
   "id": "55b77465",
   "metadata": {},
   "source": [
    "## Problem 5 - twitter Sentiment Analysis"
   ]
  },
  {
   "cell_type": "markdown",
   "id": "f0ec56cf",
   "metadata": {},
   "source": [
    "## 12"
   ]
  },
  {
   "cell_type": "code",
   "execution_count": 27,
   "id": "9136e7df",
   "metadata": {},
   "outputs": [],
   "source": [
    "tweets = [\n",
    "    \"Wow, what a great day today!! #sunshine\",\n",
    "    \"I feel sad about the things going on around us. #covid19\",\n",
    "    \"I'm really excited to learn Python with @jovianML #zerotopandas\",\n",
    "    \"This is a really nice song. #linkinpark\",\n",
    "    \"The python programming language is useful for data science\",\n",
    "    \"Why do bad things happen to me?\",\n",
    "    \"Apple announces the release of the new iphone 12. Fans are excited.\",\n",
    "    \"Spent my day with my family!! #happy\",\n",
    "    \"Check out my blog post oncommon string operations in python. #zerotopandas\",\n",
    "    \"Freecodecamp has great coding tutorials. #skillup\"\n",
    "]"
   ]
  },
  {
   "cell_type": "code",
   "execution_count": 28,
   "id": "d107ea04",
   "metadata": {},
   "outputs": [
    {
     "data": {
      "text/plain": [
       "10"
      ]
     },
     "execution_count": 28,
     "metadata": {},
     "output_type": "execute_result"
    }
   ],
   "source": [
    "number_of_tweets = len(tweets)\n",
    "number_of_tweets"
   ]
  },
  {
   "cell_type": "code",
   "execution_count": 29,
   "id": "b26784f3",
   "metadata": {},
   "outputs": [],
   "source": [
    "happy_words = ['great', 'excited', 'happy', 'nice', 'wonderful', 'amazing', 'good', 'best']"
   ]
  },
  {
   "cell_type": "code",
   "execution_count": 30,
   "id": "e6f8621c",
   "metadata": {},
   "outputs": [],
   "source": [
    "sad_words = ['sad', 'bad', 'tragic', 'unhappy', 'worst']"
   ]
  },
  {
   "cell_type": "code",
   "execution_count": 31,
   "id": "87e00041",
   "metadata": {},
   "outputs": [
    {
     "data": {
      "text/plain": [
       "'Wow, what a great day today!! #sunshine'"
      ]
     },
     "execution_count": 31,
     "metadata": {},
     "output_type": "execute_result"
    }
   ],
   "source": [
    "sample_tweet = tweets[0]\n",
    "sample_tweet"
   ]
  },
  {
   "cell_type": "code",
   "execution_count": 32,
   "id": "ee5e15a4",
   "metadata": {},
   "outputs": [
    {
     "data": {
      "text/plain": [
       "True"
      ]
     },
     "execution_count": 32,
     "metadata": {},
     "output_type": "execute_result"
    }
   ],
   "source": [
    "is_tweet_happy = False\n",
    "\n",
    "for word in happy_words:\n",
    "    if word in sample_tweet:\n",
    "        is_tweet_happy = True\n",
    "\n",
    "is_tweet_happy"
   ]
  },
  {
   "cell_type": "markdown",
   "id": "b2b25118",
   "metadata": {},
   "source": [
    "## 13"
   ]
  },
  {
   "cell_type": "code",
   "execution_count": 33,
   "id": "439ab1c9",
   "metadata": {},
   "outputs": [
    {
     "name": "stdout",
     "output_type": "stream",
     "text": [
      "Number of happy tweets:  6\n"
     ]
    }
   ],
   "source": [
    "number_of_happy_tweets = 0\n",
    "\n",
    "for tweet in tweets:\n",
    "    for word in happy_words:\n",
    "        if word in tweet:\n",
    "            number_of_happy_tweets += 1\n",
    "print(\"Number of happy tweets: \", number_of_happy_tweets)"
   ]
  },
  {
   "cell_type": "markdown",
   "id": "151e5c69",
   "metadata": {},
   "source": [
    "## 14"
   ]
  },
  {
   "cell_type": "code",
   "execution_count": 34,
   "id": "1a84abf7",
   "metadata": {},
   "outputs": [],
   "source": [
    "happy_fraction = number_of_happy_tweets / number_of_tweets"
   ]
  },
  {
   "cell_type": "code",
   "execution_count": 35,
   "id": "ff2b68af",
   "metadata": {},
   "outputs": [
    {
     "name": "stdout",
     "output_type": "stream",
     "text": [
      "The fraction of happy tweets is:  0.6\n"
     ]
    }
   ],
   "source": [
    "print(\"The fraction of happy tweets is: \", happy_fraction)"
   ]
  },
  {
   "cell_type": "markdown",
   "id": "667b9545",
   "metadata": {},
   "source": [
    "## 15"
   ]
  },
  {
   "cell_type": "code",
   "execution_count": 36,
   "id": "29bbd848",
   "metadata": {},
   "outputs": [
    {
     "name": "stdout",
     "output_type": "stream",
     "text": [
      "Number of sad tweets:  2\n"
     ]
    }
   ],
   "source": [
    "number_of_sad_tweets = 0\n",
    "\n",
    "for tweet in tweets:\n",
    "    for word in sad_words:\n",
    "        if word in tweet:\n",
    "            number_of_sad_tweets += 1\n",
    "            \n",
    "print(\"Number of sad tweets: \", number_of_sad_tweets)"
   ]
  },
  {
   "cell_type": "markdown",
   "id": "0ca0c06a",
   "metadata": {},
   "source": [
    "## 16"
   ]
  },
  {
   "cell_type": "code",
   "execution_count": 37,
   "id": "1aa44751",
   "metadata": {},
   "outputs": [
    {
     "name": "stdout",
     "output_type": "stream",
     "text": [
      "The fraction of sad tweets is:  0.2\n"
     ]
    }
   ],
   "source": [
    "sad_fraction = number_of_sad_tweets / number_of_tweets\n",
    "print(\"The fraction of sad tweets is: \", sad_fraction)"
   ]
  },
  {
   "cell_type": "code",
   "execution_count": 38,
   "id": "174ff3f7",
   "metadata": {},
   "outputs": [
    {
     "data": {
      "application/javascript": [
       "window.require && require([\"base/js/namespace\"],function(Jupyter){Jupyter.notebook.save_checkpoint()})"
      ],
      "text/plain": [
       "<IPython.core.display.Javascript object>"
      ]
     },
     "metadata": {},
     "output_type": "display_data"
    },
    {
     "name": "stdout",
     "output_type": "stream",
     "text": [
      "[jovian] Updating notebook \"shashankshirol4/python-practice-assignment\" on https://jovian.ai/\u001b[0m\n",
      "[jovian] Committed successfully! https://jovian.ai/shashankshirol4/python-practice-assignment\u001b[0m\n"
     ]
    },
    {
     "data": {
      "text/plain": [
       "'https://jovian.ai/shashankshirol4/python-practice-assignment'"
      ]
     },
     "execution_count": 38,
     "metadata": {},
     "output_type": "execute_result"
    }
   ],
   "source": [
    "jovian.commit(project=project_name, privacy='secret', environment=None)"
   ]
  },
  {
   "cell_type": "code",
   "execution_count": null,
   "id": "e4b38105",
   "metadata": {},
   "outputs": [],
   "source": []
  }
 ],
 "metadata": {
  "kernelspec": {
   "display_name": "Python 3 (ipykernel)",
   "language": "python",
   "name": "python3"
  },
  "language_info": {
   "codemirror_mode": {
    "name": "ipython",
    "version": 3
   },
   "file_extension": ".py",
   "mimetype": "text/x-python",
   "name": "python",
   "nbconvert_exporter": "python",
   "pygments_lexer": "ipython3",
   "version": "3.9.12"
  }
 },
 "nbformat": 4,
 "nbformat_minor": 5
}
